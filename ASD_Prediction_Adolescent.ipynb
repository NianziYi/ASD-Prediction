{
 "cells": [
  {
   "cell_type": "code",
   "execution_count": 1,
   "metadata": {},
   "outputs": [],
   "source": [
    "import pandas as pd\n",
    "import numpy as np\n",
    "import matplotlib.pyplot as plt\n",
    "import sklearn\n",
    "from sklearn.model_selection import train_test_split\n",
    "from sklearn.ensemble import RandomForestClassifier\n",
    "from scipy.io import arff\n",
    "from io import BytesIO"
   ]
  },
  {
   "attachments": {},
   "cell_type": "markdown",
   "metadata": {},
   "source": [
    "## Preprocess Datasets - Adolescent\n",
    "### 1. Read data file"
   ]
  },
  {
   "cell_type": "code",
   "execution_count": 2,
   "metadata": {},
   "outputs": [
    {
     "data": {
      "text/html": [
       "<div>\n",
       "<style scoped>\n",
       "    .dataframe tbody tr th:only-of-type {\n",
       "        vertical-align: middle;\n",
       "    }\n",
       "\n",
       "    .dataframe tbody tr th {\n",
       "        vertical-align: top;\n",
       "    }\n",
       "\n",
       "    .dataframe thead th {\n",
       "        text-align: right;\n",
       "    }\n",
       "</style>\n",
       "<table border=\"1\" class=\"dataframe\">\n",
       "  <thead>\n",
       "    <tr style=\"text-align: right;\">\n",
       "      <th></th>\n",
       "      <th>A1_Score</th>\n",
       "      <th>A2_Score</th>\n",
       "      <th>A3_Score</th>\n",
       "      <th>A4_Score</th>\n",
       "      <th>A5_Score</th>\n",
       "      <th>A6_Score</th>\n",
       "      <th>A7_Score</th>\n",
       "      <th>A8_Score</th>\n",
       "      <th>A9_Score</th>\n",
       "      <th>A10_Score</th>\n",
       "      <th>...</th>\n",
       "      <th>gender</th>\n",
       "      <th>ethnicity</th>\n",
       "      <th>jundice</th>\n",
       "      <th>austim</th>\n",
       "      <th>contry_of_res</th>\n",
       "      <th>used_app_before</th>\n",
       "      <th>result</th>\n",
       "      <th>age_desc</th>\n",
       "      <th>relation</th>\n",
       "      <th>Class/ASD</th>\n",
       "    </tr>\n",
       "  </thead>\n",
       "  <tbody>\n",
       "    <tr>\n",
       "      <th>0</th>\n",
       "      <td>b'0'</td>\n",
       "      <td>b'0'</td>\n",
       "      <td>b'0'</td>\n",
       "      <td>b'1'</td>\n",
       "      <td>b'1'</td>\n",
       "      <td>b'1'</td>\n",
       "      <td>b'1'</td>\n",
       "      <td>b'1'</td>\n",
       "      <td>b'1'</td>\n",
       "      <td>b'0'</td>\n",
       "      <td>...</td>\n",
       "      <td>b'm'</td>\n",
       "      <td>b'Hispanic'</td>\n",
       "      <td>b'yes'</td>\n",
       "      <td>b'yes'</td>\n",
       "      <td>b'Austria'</td>\n",
       "      <td>b'no'</td>\n",
       "      <td>6.0</td>\n",
       "      <td>b'12-16 years'</td>\n",
       "      <td>b'Parent'</td>\n",
       "      <td>b'NO'</td>\n",
       "    </tr>\n",
       "    <tr>\n",
       "      <th>1</th>\n",
       "      <td>b'0'</td>\n",
       "      <td>b'0'</td>\n",
       "      <td>b'0'</td>\n",
       "      <td>b'0'</td>\n",
       "      <td>b'0'</td>\n",
       "      <td>b'0'</td>\n",
       "      <td>b'0'</td>\n",
       "      <td>b'0'</td>\n",
       "      <td>b'1'</td>\n",
       "      <td>b'1'</td>\n",
       "      <td>...</td>\n",
       "      <td>b'm'</td>\n",
       "      <td>b'Black'</td>\n",
       "      <td>b'no'</td>\n",
       "      <td>b'no'</td>\n",
       "      <td>b'Austria'</td>\n",
       "      <td>b'no'</td>\n",
       "      <td>2.0</td>\n",
       "      <td>b'12-16 years'</td>\n",
       "      <td>b'Relative'</td>\n",
       "      <td>b'NO'</td>\n",
       "    </tr>\n",
       "    <tr>\n",
       "      <th>2</th>\n",
       "      <td>b'0'</td>\n",
       "      <td>b'0'</td>\n",
       "      <td>b'0'</td>\n",
       "      <td>b'0'</td>\n",
       "      <td>b'0'</td>\n",
       "      <td>b'0'</td>\n",
       "      <td>b'0'</td>\n",
       "      <td>b'0'</td>\n",
       "      <td>b'1'</td>\n",
       "      <td>b'1'</td>\n",
       "      <td>...</td>\n",
       "      <td>b'f'</td>\n",
       "      <td>b'?'</td>\n",
       "      <td>b'no'</td>\n",
       "      <td>b'no'</td>\n",
       "      <td>b'AmericanSamoa'</td>\n",
       "      <td>b'no'</td>\n",
       "      <td>2.0</td>\n",
       "      <td>b'12-16 years'</td>\n",
       "      <td>b'?'</td>\n",
       "      <td>b'NO'</td>\n",
       "    </tr>\n",
       "    <tr>\n",
       "      <th>3</th>\n",
       "      <td>b'0'</td>\n",
       "      <td>b'1'</td>\n",
       "      <td>b'1'</td>\n",
       "      <td>b'1'</td>\n",
       "      <td>b'1'</td>\n",
       "      <td>b'1'</td>\n",
       "      <td>b'0'</td>\n",
       "      <td>b'1'</td>\n",
       "      <td>b'1'</td>\n",
       "      <td>b'0'</td>\n",
       "      <td>...</td>\n",
       "      <td>b'f'</td>\n",
       "      <td>b'White-European'</td>\n",
       "      <td>b'no'</td>\n",
       "      <td>b'no'</td>\n",
       "      <td>b'United Kingdom'</td>\n",
       "      <td>b'no'</td>\n",
       "      <td>7.0</td>\n",
       "      <td>b'12-16 years'</td>\n",
       "      <td>b'Self'</td>\n",
       "      <td>b'YES'</td>\n",
       "    </tr>\n",
       "    <tr>\n",
       "      <th>4</th>\n",
       "      <td>b'1'</td>\n",
       "      <td>b'1'</td>\n",
       "      <td>b'1'</td>\n",
       "      <td>b'1'</td>\n",
       "      <td>b'1'</td>\n",
       "      <td>b'1'</td>\n",
       "      <td>b'1'</td>\n",
       "      <td>b'0'</td>\n",
       "      <td>b'0'</td>\n",
       "      <td>b'0'</td>\n",
       "      <td>...</td>\n",
       "      <td>b'f'</td>\n",
       "      <td>b'?'</td>\n",
       "      <td>b'no'</td>\n",
       "      <td>b'no'</td>\n",
       "      <td>b'Albania'</td>\n",
       "      <td>b'no'</td>\n",
       "      <td>7.0</td>\n",
       "      <td>b'12-16 years'</td>\n",
       "      <td>b'?'</td>\n",
       "      <td>b'YES'</td>\n",
       "    </tr>\n",
       "  </tbody>\n",
       "</table>\n",
       "<p>5 rows × 21 columns</p>\n",
       "</div>"
      ],
      "text/plain": [
       "  A1_Score A2_Score A3_Score A4_Score A5_Score A6_Score A7_Score A8_Score  \\\n",
       "0     b'0'     b'0'     b'0'     b'1'     b'1'     b'1'     b'1'     b'1'   \n",
       "1     b'0'     b'0'     b'0'     b'0'     b'0'     b'0'     b'0'     b'0'   \n",
       "2     b'0'     b'0'     b'0'     b'0'     b'0'     b'0'     b'0'     b'0'   \n",
       "3     b'0'     b'1'     b'1'     b'1'     b'1'     b'1'     b'0'     b'1'   \n",
       "4     b'1'     b'1'     b'1'     b'1'     b'1'     b'1'     b'1'     b'0'   \n",
       "\n",
       "  A9_Score A10_Score  ...  gender          ethnicity jundice  austim  \\\n",
       "0     b'1'      b'0'  ...    b'm'        b'Hispanic'  b'yes'  b'yes'   \n",
       "1     b'1'      b'1'  ...    b'm'           b'Black'   b'no'   b'no'   \n",
       "2     b'1'      b'1'  ...    b'f'               b'?'   b'no'   b'no'   \n",
       "3     b'1'      b'0'  ...    b'f'  b'White-European'   b'no'   b'no'   \n",
       "4     b'0'      b'0'  ...    b'f'               b'?'   b'no'   b'no'   \n",
       "\n",
       "       contry_of_res used_app_before result        age_desc     relation  \\\n",
       "0         b'Austria'           b'no'    6.0  b'12-16 years'    b'Parent'   \n",
       "1         b'Austria'           b'no'    2.0  b'12-16 years'  b'Relative'   \n",
       "2   b'AmericanSamoa'           b'no'    2.0  b'12-16 years'         b'?'   \n",
       "3  b'United Kingdom'           b'no'    7.0  b'12-16 years'      b'Self'   \n",
       "4         b'Albania'           b'no'    7.0  b'12-16 years'         b'?'   \n",
       "\n",
       "  Class/ASD  \n",
       "0     b'NO'  \n",
       "1     b'NO'  \n",
       "2     b'NO'  \n",
       "3    b'YES'  \n",
       "4    b'YES'  \n",
       "\n",
       "[5 rows x 21 columns]"
      ]
     },
     "execution_count": 2,
     "metadata": {},
     "output_type": "execute_result"
    }
   ],
   "source": [
    "# Read file\n",
    "data = arff.loadarff('Autism-Adolescent-Data.arff')\n",
    "df_adol = pd.DataFrame(data[0])\n",
    "df_adol.head()"
   ]
  },
  {
   "cell_type": "code",
   "execution_count": 3,
   "metadata": {},
   "outputs": [
    {
     "name": "stdout",
     "output_type": "stream",
     "text": [
      "<class 'pandas.core.frame.DataFrame'>\n",
      "RangeIndex: 104 entries, 0 to 103\n",
      "Data columns (total 21 columns):\n",
      " #   Column           Non-Null Count  Dtype  \n",
      "---  ------           --------------  -----  \n",
      " 0   A1_Score         104 non-null    object \n",
      " 1   A2_Score         104 non-null    object \n",
      " 2   A3_Score         104 non-null    object \n",
      " 3   A4_Score         104 non-null    object \n",
      " 4   A5_Score         104 non-null    object \n",
      " 5   A6_Score         104 non-null    object \n",
      " 6   A7_Score         104 non-null    object \n",
      " 7   A8_Score         104 non-null    object \n",
      " 8   A9_Score         104 non-null    object \n",
      " 9   A10_Score        104 non-null    object \n",
      " 10  age              104 non-null    float64\n",
      " 11  gender           104 non-null    object \n",
      " 12  ethnicity        104 non-null    object \n",
      " 13  jundice          104 non-null    object \n",
      " 14  austim           104 non-null    object \n",
      " 15  contry_of_res    104 non-null    object \n",
      " 16  used_app_before  104 non-null    object \n",
      " 17  result           104 non-null    float64\n",
      " 18  age_desc         104 non-null    object \n",
      " 19  relation         104 non-null    object \n",
      " 20  Class/ASD        104 non-null    object \n",
      "dtypes: float64(2), object(19)\n",
      "memory usage: 17.2+ KB\n"
     ]
    }
   ],
   "source": [
    "# Check data type of each feature in the dataset\n",
    "df_adol.info()"
   ]
  },
  {
   "attachments": {},
   "cell_type": "markdown",
   "metadata": {},
   "source": [
    "### 2. Decode"
   ]
  },
  {
   "cell_type": "code",
   "execution_count": 4,
   "metadata": {},
   "outputs": [
    {
     "data": {
      "text/html": [
       "<div>\n",
       "<style scoped>\n",
       "    .dataframe tbody tr th:only-of-type {\n",
       "        vertical-align: middle;\n",
       "    }\n",
       "\n",
       "    .dataframe tbody tr th {\n",
       "        vertical-align: top;\n",
       "    }\n",
       "\n",
       "    .dataframe thead th {\n",
       "        text-align: right;\n",
       "    }\n",
       "</style>\n",
       "<table border=\"1\" class=\"dataframe\">\n",
       "  <thead>\n",
       "    <tr style=\"text-align: right;\">\n",
       "      <th></th>\n",
       "      <th>A1_Score</th>\n",
       "      <th>A2_Score</th>\n",
       "      <th>A3_Score</th>\n",
       "      <th>A4_Score</th>\n",
       "      <th>A5_Score</th>\n",
       "      <th>A6_Score</th>\n",
       "      <th>A7_Score</th>\n",
       "      <th>A8_Score</th>\n",
       "      <th>A9_Score</th>\n",
       "      <th>A10_Score</th>\n",
       "      <th>...</th>\n",
       "      <th>gender</th>\n",
       "      <th>ethnicity</th>\n",
       "      <th>jundice</th>\n",
       "      <th>austim</th>\n",
       "      <th>contry_of_res</th>\n",
       "      <th>used_app_before</th>\n",
       "      <th>result</th>\n",
       "      <th>age_desc</th>\n",
       "      <th>relation</th>\n",
       "      <th>Class/ASD</th>\n",
       "    </tr>\n",
       "  </thead>\n",
       "  <tbody>\n",
       "    <tr>\n",
       "      <th>0</th>\n",
       "      <td>0</td>\n",
       "      <td>0</td>\n",
       "      <td>0</td>\n",
       "      <td>1</td>\n",
       "      <td>1</td>\n",
       "      <td>1</td>\n",
       "      <td>1</td>\n",
       "      <td>1</td>\n",
       "      <td>1</td>\n",
       "      <td>0</td>\n",
       "      <td>...</td>\n",
       "      <td>m</td>\n",
       "      <td>Hispanic</td>\n",
       "      <td>yes</td>\n",
       "      <td>yes</td>\n",
       "      <td>Austria</td>\n",
       "      <td>no</td>\n",
       "      <td>6.0</td>\n",
       "      <td>12-16 years</td>\n",
       "      <td>Parent</td>\n",
       "      <td>NO</td>\n",
       "    </tr>\n",
       "    <tr>\n",
       "      <th>1</th>\n",
       "      <td>0</td>\n",
       "      <td>0</td>\n",
       "      <td>0</td>\n",
       "      <td>0</td>\n",
       "      <td>0</td>\n",
       "      <td>0</td>\n",
       "      <td>0</td>\n",
       "      <td>0</td>\n",
       "      <td>1</td>\n",
       "      <td>1</td>\n",
       "      <td>...</td>\n",
       "      <td>m</td>\n",
       "      <td>Black</td>\n",
       "      <td>no</td>\n",
       "      <td>no</td>\n",
       "      <td>Austria</td>\n",
       "      <td>no</td>\n",
       "      <td>2.0</td>\n",
       "      <td>12-16 years</td>\n",
       "      <td>Relative</td>\n",
       "      <td>NO</td>\n",
       "    </tr>\n",
       "    <tr>\n",
       "      <th>2</th>\n",
       "      <td>0</td>\n",
       "      <td>0</td>\n",
       "      <td>0</td>\n",
       "      <td>0</td>\n",
       "      <td>0</td>\n",
       "      <td>0</td>\n",
       "      <td>0</td>\n",
       "      <td>0</td>\n",
       "      <td>1</td>\n",
       "      <td>1</td>\n",
       "      <td>...</td>\n",
       "      <td>f</td>\n",
       "      <td>?</td>\n",
       "      <td>no</td>\n",
       "      <td>no</td>\n",
       "      <td>AmericanSamoa</td>\n",
       "      <td>no</td>\n",
       "      <td>2.0</td>\n",
       "      <td>12-16 years</td>\n",
       "      <td>?</td>\n",
       "      <td>NO</td>\n",
       "    </tr>\n",
       "    <tr>\n",
       "      <th>3</th>\n",
       "      <td>0</td>\n",
       "      <td>1</td>\n",
       "      <td>1</td>\n",
       "      <td>1</td>\n",
       "      <td>1</td>\n",
       "      <td>1</td>\n",
       "      <td>0</td>\n",
       "      <td>1</td>\n",
       "      <td>1</td>\n",
       "      <td>0</td>\n",
       "      <td>...</td>\n",
       "      <td>f</td>\n",
       "      <td>White-European</td>\n",
       "      <td>no</td>\n",
       "      <td>no</td>\n",
       "      <td>United Kingdom</td>\n",
       "      <td>no</td>\n",
       "      <td>7.0</td>\n",
       "      <td>12-16 years</td>\n",
       "      <td>Self</td>\n",
       "      <td>YES</td>\n",
       "    </tr>\n",
       "    <tr>\n",
       "      <th>4</th>\n",
       "      <td>1</td>\n",
       "      <td>1</td>\n",
       "      <td>1</td>\n",
       "      <td>1</td>\n",
       "      <td>1</td>\n",
       "      <td>1</td>\n",
       "      <td>1</td>\n",
       "      <td>0</td>\n",
       "      <td>0</td>\n",
       "      <td>0</td>\n",
       "      <td>...</td>\n",
       "      <td>f</td>\n",
       "      <td>?</td>\n",
       "      <td>no</td>\n",
       "      <td>no</td>\n",
       "      <td>Albania</td>\n",
       "      <td>no</td>\n",
       "      <td>7.0</td>\n",
       "      <td>12-16 years</td>\n",
       "      <td>?</td>\n",
       "      <td>YES</td>\n",
       "    </tr>\n",
       "  </tbody>\n",
       "</table>\n",
       "<p>5 rows × 21 columns</p>\n",
       "</div>"
      ],
      "text/plain": [
       "  A1_Score A2_Score A3_Score A4_Score A5_Score A6_Score A7_Score A8_Score  \\\n",
       "0        0        0        0        1        1        1        1        1   \n",
       "1        0        0        0        0        0        0        0        0   \n",
       "2        0        0        0        0        0        0        0        0   \n",
       "3        0        1        1        1        1        1        0        1   \n",
       "4        1        1        1        1        1        1        1        0   \n",
       "\n",
       "  A9_Score A10_Score  ...  gender       ethnicity jundice austim  \\\n",
       "0        1         0  ...       m        Hispanic     yes    yes   \n",
       "1        1         1  ...       m           Black      no     no   \n",
       "2        1         1  ...       f               ?      no     no   \n",
       "3        1         0  ...       f  White-European      no     no   \n",
       "4        0         0  ...       f               ?      no     no   \n",
       "\n",
       "    contry_of_res used_app_before result     age_desc  relation Class/ASD  \n",
       "0         Austria              no    6.0  12-16 years    Parent        NO  \n",
       "1         Austria              no    2.0  12-16 years  Relative        NO  \n",
       "2   AmericanSamoa              no    2.0  12-16 years         ?        NO  \n",
       "3  United Kingdom              no    7.0  12-16 years      Self       YES  \n",
       "4         Albania              no    7.0  12-16 years         ?       YES  \n",
       "\n",
       "[5 rows x 21 columns]"
      ]
     },
     "execution_count": 4,
     "metadata": {},
     "output_type": "execute_result"
    }
   ],
   "source": [
    "for key in df_adol.columns.values.tolist():                # loop through all entries of the dataframe\n",
    "    if (type(df_adol[key][0])==bytes):                     # find bytes object\n",
    "        df_adol[key] = df_adol[key].str.decode('utf-8')   # Decode and replace\n",
    "df_adol.head()                                             # check"
   ]
  },
  {
   "attachments": {},
   "cell_type": "markdown",
   "metadata": {},
   "source": [
    "### 3. Visualization"
   ]
  },
  {
   "cell_type": "code",
   "execution_count": 5,
   "metadata": {},
   "outputs": [
    {
     "data": {
      "image/png": "[encoded data removed]",
      "text/plain": [
       "<Figure size 640x480 with 1 Axes>"
      ]
     },
     "metadata": {},
     "output_type": "display_data"
    }
   ],
   "source": [
    "#display the number of Non-ASD/ASD children in different age groups\n",
    "CrosstabResult = pd.crosstab(index = df_adol['age'],columns = df_adol['Class/ASD'], rownames=['Age'])\n",
    "ax = CrosstabResult.plot.bar()\n",
    "\n",
    "ax.set_title(\"Non-ASD/ASD Children in Different Age Groups\")\n",
    "ax.set_xlabel('Age')\n",
    "ax.set_ylabel('Counts')\n",
    "plt.xticks(ticks=range(len(np.unique(df_adol['age'].astype(int)))), labels=np.unique(df_adol['age'].astype(int)),rotation=0)\n",
    "plt.yticks(ticks=[0,5,10,15,20], labels=[0,5,10,15,20])\n",
    "\n",
    "for bar in ax.patches:\n",
    "    y_value = bar.get_height()\n",
    "    x_value = bar.get_x() + bar.get_width() / 2\n",
    "    space = 1\n",
    "    label = format(y_value)\n",
    "    ax.annotate(label, (x_value, y_value), xytext=(0, space), textcoords=\"offset points\", ha='center', va='bottom')"
   ]
  },
  {
   "cell_type": "code",
   "execution_count": 6,
   "metadata": {},
   "outputs": [
    {
     "data": {
      "image/png": "[encoded data removed]",
      "text/plain": [
       "<Figure size 640x480 with 1 Axes>"
      ]
     },
     "metadata": {},
     "output_type": "display_data"
    }
   ],
   "source": [
    "#display the number of Non-ASD/ASD children in different gender groups\n",
    "CrosstabResult = pd.crosstab(index = df_adol['gender'],columns = df_adol['Class/ASD'], rownames=['Gender'])\n",
    "ax = CrosstabResult.plot.bar()\n",
    "\n",
    "ax.set_title(\"Non-ASD/ASD Adolescent in Different Gender Groups\")\n",
    "ax.set_xlabel('Gender')\n",
    "ax.set_ylabel('Counts')\n",
    "plt.xticks([0,1], ['Female', 'Male'], rotation=0)\n",
    "\n",
    "for bar in ax.patches:\n",
    "    y_value = bar.get_height()\n",
    "    x_value = bar.get_x() + bar.get_width() / 2\n",
    "    space = 1\n",
    "    label = format(y_value)\n",
    "    ax.annotate(label, (x_value, y_value), xytext=(0, space), textcoords=\"offset points\", ha='center', va='bottom')"
   ]
  },
  {
   "attachments": {},
   "cell_type": "markdown",
   "metadata": {},
   "source": [
    "### 4. Remove the entries, which we are not interessed"
   ]
  },
  {
   "cell_type": "code",
   "execution_count": 7,
   "metadata": {},
   "outputs": [
    {
     "data": {
      "text/html": [
       "<div>\n",
       "<style scoped>\n",
       "    .dataframe tbody tr th:only-of-type {\n",
       "        vertical-align: middle;\n",
       "    }\n",
       "\n",
       "    .dataframe tbody tr th {\n",
       "        vertical-align: top;\n",
       "    }\n",
       "\n",
       "    .dataframe thead th {\n",
       "        text-align: right;\n",
       "    }\n",
       "</style>\n",
       "<table border=\"1\" class=\"dataframe\">\n",
       "  <thead>\n",
       "    <tr style=\"text-align: right;\">\n",
       "      <th></th>\n",
       "      <th>A1_Score</th>\n",
       "      <th>A2_Score</th>\n",
       "      <th>A3_Score</th>\n",
       "      <th>A4_Score</th>\n",
       "      <th>A5_Score</th>\n",
       "      <th>A6_Score</th>\n",
       "      <th>A7_Score</th>\n",
       "      <th>A8_Score</th>\n",
       "      <th>A9_Score</th>\n",
       "      <th>A10_Score</th>\n",
       "      <th>age</th>\n",
       "      <th>gender</th>\n",
       "      <th>jundice</th>\n",
       "      <th>austim</th>\n",
       "      <th>used_app_before</th>\n",
       "      <th>result</th>\n",
       "      <th>relation</th>\n",
       "      <th>Class/ASD</th>\n",
       "    </tr>\n",
       "  </thead>\n",
       "  <tbody>\n",
       "    <tr>\n",
       "      <th>0</th>\n",
       "      <td>0</td>\n",
       "      <td>0</td>\n",
       "      <td>0</td>\n",
       "      <td>1</td>\n",
       "      <td>1</td>\n",
       "      <td>1</td>\n",
       "      <td>1</td>\n",
       "      <td>1</td>\n",
       "      <td>1</td>\n",
       "      <td>0</td>\n",
       "      <td>15.0</td>\n",
       "      <td>m</td>\n",
       "      <td>yes</td>\n",
       "      <td>yes</td>\n",
       "      <td>no</td>\n",
       "      <td>6.0</td>\n",
       "      <td>Parent</td>\n",
       "      <td>NO</td>\n",
       "    </tr>\n",
       "    <tr>\n",
       "      <th>1</th>\n",
       "      <td>0</td>\n",
       "      <td>0</td>\n",
       "      <td>0</td>\n",
       "      <td>0</td>\n",
       "      <td>0</td>\n",
       "      <td>0</td>\n",
       "      <td>0</td>\n",
       "      <td>0</td>\n",
       "      <td>1</td>\n",
       "      <td>1</td>\n",
       "      <td>15.0</td>\n",
       "      <td>m</td>\n",
       "      <td>no</td>\n",
       "      <td>no</td>\n",
       "      <td>no</td>\n",
       "      <td>2.0</td>\n",
       "      <td>Relative</td>\n",
       "      <td>NO</td>\n",
       "    </tr>\n",
       "    <tr>\n",
       "      <th>2</th>\n",
       "      <td>0</td>\n",
       "      <td>0</td>\n",
       "      <td>0</td>\n",
       "      <td>0</td>\n",
       "      <td>0</td>\n",
       "      <td>0</td>\n",
       "      <td>0</td>\n",
       "      <td>0</td>\n",
       "      <td>1</td>\n",
       "      <td>1</td>\n",
       "      <td>12.0</td>\n",
       "      <td>f</td>\n",
       "      <td>no</td>\n",
       "      <td>no</td>\n",
       "      <td>no</td>\n",
       "      <td>2.0</td>\n",
       "      <td>?</td>\n",
       "      <td>NO</td>\n",
       "    </tr>\n",
       "    <tr>\n",
       "      <th>3</th>\n",
       "      <td>0</td>\n",
       "      <td>1</td>\n",
       "      <td>1</td>\n",
       "      <td>1</td>\n",
       "      <td>1</td>\n",
       "      <td>1</td>\n",
       "      <td>0</td>\n",
       "      <td>1</td>\n",
       "      <td>1</td>\n",
       "      <td>0</td>\n",
       "      <td>14.0</td>\n",
       "      <td>f</td>\n",
       "      <td>no</td>\n",
       "      <td>no</td>\n",
       "      <td>no</td>\n",
       "      <td>7.0</td>\n",
       "      <td>Self</td>\n",
       "      <td>YES</td>\n",
       "    </tr>\n",
       "    <tr>\n",
       "      <th>4</th>\n",
       "      <td>1</td>\n",
       "      <td>1</td>\n",
       "      <td>1</td>\n",
       "      <td>1</td>\n",
       "      <td>1</td>\n",
       "      <td>1</td>\n",
       "      <td>1</td>\n",
       "      <td>0</td>\n",
       "      <td>0</td>\n",
       "      <td>0</td>\n",
       "      <td>16.0</td>\n",
       "      <td>f</td>\n",
       "      <td>no</td>\n",
       "      <td>no</td>\n",
       "      <td>no</td>\n",
       "      <td>7.0</td>\n",
       "      <td>?</td>\n",
       "      <td>YES</td>\n",
       "    </tr>\n",
       "  </tbody>\n",
       "</table>\n",
       "</div>"
      ],
      "text/plain": [
       "  A1_Score A2_Score A3_Score A4_Score A5_Score A6_Score A7_Score A8_Score  \\\n",
       "0        0        0        0        1        1        1        1        1   \n",
       "1        0        0        0        0        0        0        0        0   \n",
       "2        0        0        0        0        0        0        0        0   \n",
       "3        0        1        1        1        1        1        0        1   \n",
       "4        1        1        1        1        1        1        1        0   \n",
       "\n",
       "  A9_Score A10_Score   age gender jundice austim used_app_before  result  \\\n",
       "0        1         0  15.0      m     yes    yes              no     6.0   \n",
       "1        1         1  15.0      m      no     no              no     2.0   \n",
       "2        1         1  12.0      f      no     no              no     2.0   \n",
       "3        1         0  14.0      f      no     no              no     7.0   \n",
       "4        0         0  16.0      f      no     no              no     7.0   \n",
       "\n",
       "   relation Class/ASD  \n",
       "0    Parent        NO  \n",
       "1  Relative        NO  \n",
       "2         ?        NO  \n",
       "3      Self       YES  \n",
       "4         ?       YES  "
      ]
     },
     "execution_count": 7,
     "metadata": {},
     "output_type": "execute_result"
    }
   ],
   "source": [
    "df_adol = df_adol.drop(['ethnicity', 'contry_of_res', 'age_desc'], axis=1)\n",
    "df_adol.head()"
   ]
  },
  {
   "attachments": {},
   "cell_type": "markdown",
   "metadata": {},
   "source": [
    "### 5. One-Hot-Encoding"
   ]
  },
  {
   "cell_type": "code",
   "execution_count": 8,
   "metadata": {},
   "outputs": [
    {
     "name": "stdout",
     "output_type": "stream",
     "text": [
      "A1_Score has value:  ['0' '1']\n",
      "A2_Score has value:  ['0' '1']\n",
      "A3_Score has value:  ['0' '1']\n",
      "A4_Score has value:  ['1' '0']\n",
      "A5_Score has value:  ['1' '0']\n",
      "A6_Score has value:  ['1' '0']\n",
      "A7_Score has value:  ['1' '0']\n",
      "A8_Score has value:  ['1' '0']\n",
      "A9_Score has value:  ['1' '0']\n",
      "A10_Score has value:  ['0' '1']\n",
      "age has value:  [15. 12. 14. 16. 13.]\n",
      "gender has value:  ['m' 'f']\n",
      "jundice has value:  ['yes' 'no']\n",
      "austim has value:  ['yes' 'no']\n",
      "used_app_before has value:  ['no' 'yes']\n",
      "result has value:  [ 6.  2.  7.  3.  4.  5.  9.  8. 10.  1.]\n",
      "relation has value:  ['Parent' 'Relative' '?' 'Self' 'Health care professional' 'Others']\n",
      "Class/ASD has value:  ['NO' 'YES']\n"
     ]
    }
   ],
   "source": [
    "for key in df_adol.columns.values.tolist():\n",
    "    print(key + \" has value: \", df_adol[key].unique())"
   ]
  },
  {
   "cell_type": "code",
   "execution_count": 9,
   "metadata": {},
   "outputs": [
    {
     "data": {
      "text/html": [
       "<div>\n",
       "<style scoped>\n",
       "    .dataframe tbody tr th:only-of-type {\n",
       "        vertical-align: middle;\n",
       "    }\n",
       "\n",
       "    .dataframe tbody tr th {\n",
       "        vertical-align: top;\n",
       "    }\n",
       "\n",
       "    .dataframe thead th {\n",
       "        text-align: right;\n",
       "    }\n",
       "</style>\n",
       "<table border=\"1\" class=\"dataframe\">\n",
       "  <thead>\n",
       "    <tr style=\"text-align: right;\">\n",
       "      <th></th>\n",
       "      <th>A1_Score</th>\n",
       "      <th>A2_Score</th>\n",
       "      <th>A3_Score</th>\n",
       "      <th>A4_Score</th>\n",
       "      <th>A5_Score</th>\n",
       "      <th>A6_Score</th>\n",
       "      <th>A7_Score</th>\n",
       "      <th>A8_Score</th>\n",
       "      <th>A9_Score</th>\n",
       "      <th>A10_Score</th>\n",
       "      <th>age</th>\n",
       "      <th>gender</th>\n",
       "      <th>jundice</th>\n",
       "      <th>austim</th>\n",
       "      <th>used_app_before</th>\n",
       "      <th>result</th>\n",
       "      <th>relation</th>\n",
       "      <th>Class/ASD</th>\n",
       "    </tr>\n",
       "  </thead>\n",
       "  <tbody>\n",
       "    <tr>\n",
       "      <th>0</th>\n",
       "      <td>0</td>\n",
       "      <td>0</td>\n",
       "      <td>0</td>\n",
       "      <td>1</td>\n",
       "      <td>1</td>\n",
       "      <td>1</td>\n",
       "      <td>1</td>\n",
       "      <td>1</td>\n",
       "      <td>1</td>\n",
       "      <td>0</td>\n",
       "      <td>15.0</td>\n",
       "      <td>0</td>\n",
       "      <td>1</td>\n",
       "      <td>1</td>\n",
       "      <td>0</td>\n",
       "      <td>6.0</td>\n",
       "      <td>0</td>\n",
       "      <td>0</td>\n",
       "    </tr>\n",
       "    <tr>\n",
       "      <th>1</th>\n",
       "      <td>0</td>\n",
       "      <td>0</td>\n",
       "      <td>0</td>\n",
       "      <td>0</td>\n",
       "      <td>0</td>\n",
       "      <td>0</td>\n",
       "      <td>0</td>\n",
       "      <td>0</td>\n",
       "      <td>1</td>\n",
       "      <td>1</td>\n",
       "      <td>15.0</td>\n",
       "      <td>0</td>\n",
       "      <td>0</td>\n",
       "      <td>0</td>\n",
       "      <td>0</td>\n",
       "      <td>2.0</td>\n",
       "      <td>2</td>\n",
       "      <td>0</td>\n",
       "    </tr>\n",
       "    <tr>\n",
       "      <th>2</th>\n",
       "      <td>0</td>\n",
       "      <td>0</td>\n",
       "      <td>0</td>\n",
       "      <td>0</td>\n",
       "      <td>0</td>\n",
       "      <td>0</td>\n",
       "      <td>0</td>\n",
       "      <td>0</td>\n",
       "      <td>1</td>\n",
       "      <td>1</td>\n",
       "      <td>12.0</td>\n",
       "      <td>1</td>\n",
       "      <td>0</td>\n",
       "      <td>0</td>\n",
       "      <td>0</td>\n",
       "      <td>2.0</td>\n",
       "      <td>0</td>\n",
       "      <td>0</td>\n",
       "    </tr>\n",
       "    <tr>\n",
       "      <th>3</th>\n",
       "      <td>0</td>\n",
       "      <td>1</td>\n",
       "      <td>1</td>\n",
       "      <td>1</td>\n",
       "      <td>1</td>\n",
       "      <td>1</td>\n",
       "      <td>0</td>\n",
       "      <td>1</td>\n",
       "      <td>1</td>\n",
       "      <td>0</td>\n",
       "      <td>14.0</td>\n",
       "      <td>1</td>\n",
       "      <td>0</td>\n",
       "      <td>0</td>\n",
       "      <td>0</td>\n",
       "      <td>7.0</td>\n",
       "      <td>1</td>\n",
       "      <td>1</td>\n",
       "    </tr>\n",
       "    <tr>\n",
       "      <th>4</th>\n",
       "      <td>1</td>\n",
       "      <td>1</td>\n",
       "      <td>1</td>\n",
       "      <td>1</td>\n",
       "      <td>1</td>\n",
       "      <td>1</td>\n",
       "      <td>1</td>\n",
       "      <td>0</td>\n",
       "      <td>0</td>\n",
       "      <td>0</td>\n",
       "      <td>16.0</td>\n",
       "      <td>1</td>\n",
       "      <td>0</td>\n",
       "      <td>0</td>\n",
       "      <td>0</td>\n",
       "      <td>7.0</td>\n",
       "      <td>0</td>\n",
       "      <td>1</td>\n",
       "    </tr>\n",
       "  </tbody>\n",
       "</table>\n",
       "</div>"
      ],
      "text/plain": [
       "  A1_Score A2_Score A3_Score A4_Score A5_Score A6_Score A7_Score A8_Score  \\\n",
       "0        0        0        0        1        1        1        1        1   \n",
       "1        0        0        0        0        0        0        0        0   \n",
       "2        0        0        0        0        0        0        0        0   \n",
       "3        0        1        1        1        1        1        0        1   \n",
       "4        1        1        1        1        1        1        1        0   \n",
       "\n",
       "  A9_Score A10_Score   age  gender  jundice  austim  used_app_before  result  \\\n",
       "0        1         0  15.0       0        1       1                0     6.0   \n",
       "1        1         1  15.0       0        0       0                0     2.0   \n",
       "2        1         1  12.0       1        0       0                0     2.0   \n",
       "3        1         0  14.0       1        0       0                0     7.0   \n",
       "4        0         0  16.0       1        0       0                0     7.0   \n",
       "\n",
       "   relation  Class/ASD  \n",
       "0         0          0  \n",
       "1         2          0  \n",
       "2         0          0  \n",
       "3         1          1  \n",
       "4         0          1  "
      ]
     },
     "execution_count": 9,
     "metadata": {},
     "output_type": "execute_result"
    }
   ],
   "source": [
    "df_adol['gender'] = df_adol['gender'].map({'m': 0, 'f': 1})\n",
    "df_adol['jundice'] = df_adol['jundice'].map({'no': 0, 'yes': 1})\n",
    "df_adol['austim'] = df_adol['austim'].map({'no': 0, 'yes': 1})\n",
    "df_adol['used_app_before'] = df_adol['used_app_before'].map({'no': 0, 'yes': 1})\n",
    "df_adol['relation'] = df_adol['relation'].map({'Parent': 0, 'Self': 1, 'Relative': 2, 'Health care professional': 3, 'Others':4, '?': 0})\n",
    "df_adol['Class/ASD'] = df_adol['Class/ASD'].map({'NO': 0, 'YES': 1})\n",
    "df_adol.head()"
   ]
  },
  {
   "attachments": {},
   "cell_type": "markdown",
   "metadata": {},
   "source": [
    "### 6. Handle missing value"
   ]
  },
  {
   "cell_type": "code",
   "execution_count": 10,
   "metadata": {},
   "outputs": [
    {
     "data": {
      "text/html": [
       "<div>\n",
       "<style scoped>\n",
       "    .dataframe tbody tr th:only-of-type {\n",
       "        vertical-align: middle;\n",
       "    }\n",
       "\n",
       "    .dataframe tbody tr th {\n",
       "        vertical-align: top;\n",
       "    }\n",
       "\n",
       "    .dataframe thead th {\n",
       "        text-align: right;\n",
       "    }\n",
       "</style>\n",
       "<table border=\"1\" class=\"dataframe\">\n",
       "  <thead>\n",
       "    <tr style=\"text-align: right;\">\n",
       "      <th></th>\n",
       "      <th>A1_Score</th>\n",
       "      <th>A2_Score</th>\n",
       "      <th>A3_Score</th>\n",
       "      <th>A4_Score</th>\n",
       "      <th>A5_Score</th>\n",
       "      <th>A6_Score</th>\n",
       "      <th>A7_Score</th>\n",
       "      <th>A8_Score</th>\n",
       "      <th>A9_Score</th>\n",
       "      <th>A10_Score</th>\n",
       "      <th>age</th>\n",
       "      <th>gender</th>\n",
       "      <th>jundice</th>\n",
       "      <th>austim</th>\n",
       "      <th>used_app_before</th>\n",
       "      <th>result</th>\n",
       "      <th>relation</th>\n",
       "      <th>Class/ASD</th>\n",
       "    </tr>\n",
       "  </thead>\n",
       "  <tbody>\n",
       "  </tbody>\n",
       "</table>\n",
       "</div>"
      ],
      "text/plain": [
       "Empty DataFrame\n",
       "Columns: [A1_Score, A2_Score, A3_Score, A4_Score, A5_Score, A6_Score, A7_Score, A8_Score, A9_Score, A10_Score, age, gender, jundice, austim, used_app_before, result, relation, Class/ASD]\n",
       "Index: []"
      ]
     },
     "execution_count": 10,
     "metadata": {},
     "output_type": "execute_result"
    }
   ],
   "source": [
    "df_adol[df_adol.isna().sum(axis=1) > 0] # Find whcih columns have missing value"
   ]
  },
  {
   "cell_type": "code",
   "execution_count": 11,
   "metadata": {},
   "outputs": [
    {
     "name": "stdout",
     "output_type": "stream",
     "text": [
      "<class 'pandas.core.frame.DataFrame'>\n",
      "RangeIndex: 104 entries, 0 to 103\n",
      "Data columns (total 18 columns):\n",
      " #   Column           Non-Null Count  Dtype\n",
      "---  ------           --------------  -----\n",
      " 0   A1_Score         104 non-null    int32\n",
      " 1   A2_Score         104 non-null    int32\n",
      " 2   A3_Score         104 non-null    int32\n",
      " 3   A4_Score         104 non-null    int32\n",
      " 4   A5_Score         104 non-null    int32\n",
      " 5   A6_Score         104 non-null    int32\n",
      " 6   A7_Score         104 non-null    int32\n",
      " 7   A8_Score         104 non-null    int32\n",
      " 8   A9_Score         104 non-null    int32\n",
      " 9   A10_Score        104 non-null    int32\n",
      " 10  age              104 non-null    int32\n",
      " 11  gender           104 non-null    int32\n",
      " 12  jundice          104 non-null    int32\n",
      " 13  austim           104 non-null    int32\n",
      " 14  used_app_before  104 non-null    int32\n",
      " 15  result           104 non-null    int32\n",
      " 16  relation         104 non-null    int32\n",
      " 17  Class/ASD        104 non-null    int32\n",
      "dtypes: int32(18)\n",
      "memory usage: 7.4 KB\n"
     ]
    }
   ],
   "source": [
    "# Some of the data are string not int, we will change it here\n",
    "for key in df_adol.columns.values.tolist():        # loop though all entries           \n",
    "    if (type(df_adol[key][0]) != int):             # Find non int data\n",
    "        df_adol[key] = df_adol[key].astype(int)    # Change it to int\n",
    "\n",
    "# Check dtype again\n",
    "df_adol.info()"
   ]
  },
  {
   "attachments": {},
   "cell_type": "markdown",
   "metadata": {},
   "source": [
    "### 7. Check the size and balance of processed dataset"
   ]
  },
  {
   "cell_type": "code",
   "execution_count": 12,
   "metadata": {},
   "outputs": [
    {
     "name": "stdout",
     "output_type": "stream",
     "text": [
      "Number of negative results in the dataset: 41\n",
      "Number of positive results in the dataset: 63\n"
     ]
    }
   ],
   "source": [
    "print(\n",
    "    \"Number of negative results in the dataset: {}\".format(len(df_adol[df_adol['Class/ASD'] == 0]))\n",
    ")\n",
    "print(\n",
    "    \"Number of positive results in the dataset: {}\".format(len(df_adol[df_adol['Class/ASD'] == 1]))\n",
    ")"
   ]
  },
  {
   "attachments": {},
   "cell_type": "markdown",
   "metadata": {},
   "source": [
    "## Build Randoom Forest Model"
   ]
  },
  {
   "attachments": {},
   "cell_type": "markdown",
   "metadata": {},
   "source": [
    "### 1. Split the data into training and testing set"
   ]
  },
  {
   "cell_type": "code",
   "execution_count": 13,
   "metadata": {},
   "outputs": [
    {
     "name": "stdout",
     "output_type": "stream",
     "text": [
      "Size of Training Set:  83\n",
      "Size of Testing Set:  21\n"
     ]
    }
   ],
   "source": [
    "# Split to data and labels\n",
    "X = df_adol.copy().drop(['Class/ASD'], axis=1)\n",
    "y = df_adol.copy()['Class/ASD']\n",
    "\n",
    "# train-test-split\n",
    "X_train, X_test, y_train, y_test = train_test_split(X, y, test_size=0.2)\n",
    "print(\"Size of Training Set: \", len(X_train))\n",
    "print(\"Size of Testing Set: \", len(X_test))\n"
   ]
  },
  {
   "attachments": {},
   "cell_type": "markdown",
   "metadata": {},
   "source": [
    "### 2. Train the model"
   ]
  },
  {
   "cell_type": "code",
   "execution_count": 14,
   "metadata": {},
   "outputs": [],
   "source": [
    "# Creat a random forest model\n",
    "model = RandomForestClassifier(n_estimators=500)"
   ]
  },
  {
   "cell_type": "code",
   "execution_count": 15,
   "metadata": {},
   "outputs": [
    {
     "data": {
      "text/html": [
       "<style>#sk-container-id-1 {color: black;background-color: white;}#sk-container-id-1 pre{padding: 0;}#sk-container-id-1 div.sk-toggleable {background-color: white;}#sk-container-id-1 label.sk-toggleable__label {cursor: pointer;display: block;width: 100%;margin-bottom: 0;padding: 0.3em;box-sizing: border-box;text-align: center;}#sk-container-id-1 label.sk-toggleable__label-arrow:before {content: \"▸\";float: left;margin-right: 0.25em;color: #696969;}#sk-container-id-1 label.sk-toggleable__label-arrow:hover:before {color: black;}#sk-container-id-1 div.sk-estimator:hover label.sk-toggleable__label-arrow:before {color: black;}#sk-container-id-1 div.sk-toggleable__content {max-height: 0;max-width: 0;overflow: hidden;text-align: left;background-color: #f0f8ff;}#sk-container-id-1 div.sk-toggleable__content pre {margin: 0.2em;color: black;border-radius: 0.25em;background-color: #f0f8ff;}#sk-container-id-1 input.sk-toggleable__control:checked~div.sk-toggleable__content {max-height: 200px;max-width: 100%;overflow: auto;}#sk-container-id-1 input.sk-toggleable__control:checked~label.sk-toggleable__label-arrow:before {content: \"▾\";}#sk-container-id-1 div.sk-estimator input.sk-toggleable__control:checked~label.sk-toggleable__label {background-color: #d4ebff;}#sk-container-id-1 div.sk-label input.sk-toggleable__control:checked~label.sk-toggleable__label {background-color: #d4ebff;}#sk-container-id-1 input.sk-hidden--visually {border: 0;clip: rect(1px 1px 1px 1px);clip: rect(1px, 1px, 1px, 1px);height: 1px;margin: -1px;overflow: hidden;padding: 0;position: absolute;width: 1px;}#sk-container-id-1 div.sk-estimator {font-family: monospace;background-color: #f0f8ff;border: 1px dotted black;border-radius: 0.25em;box-sizing: border-box;margin-bottom: 0.5em;}#sk-container-id-1 div.sk-estimator:hover {background-color: #d4ebff;}#sk-container-id-1 div.sk-parallel-item::after {content: \"\";width: 100%;border-bottom: 1px solid gray;flex-grow: 1;}#sk-container-id-1 div.sk-label:hover label.sk-toggleable__label {background-color: #d4ebff;}#sk-container-id-1 div.sk-serial::before {content: \"\";position: absolute;border-left: 1px solid gray;box-sizing: border-box;top: 0;bottom: 0;left: 50%;z-index: 0;}#sk-container-id-1 div.sk-serial {display: flex;flex-direction: column;align-items: center;background-color: white;padding-right: 0.2em;padding-left: 0.2em;position: relative;}#sk-container-id-1 div.sk-item {position: relative;z-index: 1;}#sk-container-id-1 div.sk-parallel {display: flex;align-items: stretch;justify-content: center;background-color: white;position: relative;}#sk-container-id-1 div.sk-item::before, #sk-container-id-1 div.sk-parallel-item::before {content: \"\";position: absolute;border-left: 1px solid gray;box-sizing: border-box;top: 0;bottom: 0;left: 50%;z-index: -1;}#sk-container-id-1 div.sk-parallel-item {display: flex;flex-direction: column;z-index: 1;position: relative;background-color: white;}#sk-container-id-1 div.sk-parallel-item:first-child::after {align-self: flex-end;width: 50%;}#sk-container-id-1 div.sk-parallel-item:last-child::after {align-self: flex-start;width: 50%;}#sk-container-id-1 div.sk-parallel-item:only-child::after {width: 0;}#sk-container-id-1 div.sk-dashed-wrapped {border: 1px dashed gray;margin: 0 0.4em 0.5em 0.4em;box-sizing: border-box;padding-bottom: 0.4em;background-color: white;}#sk-container-id-1 div.sk-label label {font-family: monospace;font-weight: bold;display: inline-block;line-height: 1.2em;}#sk-container-id-1 div.sk-label-container {text-align: center;}#sk-container-id-1 div.sk-container {/* jupyter's `normalize.less` sets `[hidden] { display: none; }` but bootstrap.min.css set `[hidden] { display: none !important; }` so we also need the `!important` here to be able to override the default hidden behavior on the sphinx rendered scikit-learn.org. See: https://github.com/scikit-learn/scikit-learn/issues/21755 */display: inline-block !important;position: relative;}#sk-container-id-1 div.sk-text-repr-fallback {display: none;}</style><div id=\"sk-container-id-1\" class=\"sk-top-container\"><div class=\"sk-text-repr-fallback\"><pre>RandomForestClassifier(n_estimators=500)</pre><b>In a Jupyter environment, please rerun this cell to show the HTML representation or trust the notebook. <br />On GitHub, the HTML representation is unable to render, please try loading this page with nbviewer.org.</b></div><div class=\"sk-container\" hidden><div class=\"sk-item\"><div class=\"sk-estimator sk-toggleable\"><input class=\"sk-toggleable__control sk-hidden--visually\" id=\"sk-estimator-id-1\" type=\"checkbox\" checked><label for=\"sk-estimator-id-1\" class=\"sk-toggleable__label sk-toggleable__label-arrow\">RandomForestClassifier</label><div class=\"sk-toggleable__content\"><pre>RandomForestClassifier(n_estimators=500)</pre></div></div></div></div></div>"
      ],
      "text/plain": [
       "RandomForestClassifier(n_estimators=500)"
      ]
     },
     "execution_count": 15,
     "metadata": {},
     "output_type": "execute_result"
    }
   ],
   "source": [
    "# Train\n",
    "model.fit(X_train, y_train)"
   ]
  },
  {
   "attachments": {},
   "cell_type": "markdown",
   "metadata": {},
   "source": [
    "## Evalute RF Model"
   ]
  },
  {
   "attachments": {},
   "cell_type": "markdown",
   "metadata": {},
   "source": [
    "### 1. Accuracy"
   ]
  },
  {
   "cell_type": "code",
   "execution_count": 16,
   "metadata": {},
   "outputs": [
    {
     "name": "stdout",
     "output_type": "stream",
     "text": [
      "Accuracy on testing set: 1.0\n"
     ]
    }
   ],
   "source": [
    "# Test accuracy\n",
    "y_pred = model.predict(X_test)\n",
    "print(\"Accuracy on testing set:\",sklearn.metrics.accuracy_score(y_test, y_pred))"
   ]
  },
  {
   "cell_type": "code",
   "execution_count": 17,
   "metadata": {},
   "outputs": [
    {
     "name": "stdout",
     "output_type": "stream",
     "text": [
      "Accuracy with fake results: 0.5301204819277109\n"
     ]
    }
   ],
   "source": [
    "#Sanity Check\n",
    "y_fake = np.random.choice([0,1], y_train.shape)   # Change the result to random numbers\n",
    "print(\"Accuracy with fake results:\",sklearn.metrics.accuracy_score(model.predict(X_train), y_fake))"
   ]
  },
  {
   "attachments": {},
   "cell_type": "markdown",
   "metadata": {},
   "source": [
    "### 2. F1-Score"
   ]
  },
  {
   "cell_type": "code",
   "execution_count": 18,
   "metadata": {},
   "outputs": [
    {
     "name": "stdout",
     "output_type": "stream",
     "text": [
      "F1 Score:  1.0\n"
     ]
    }
   ],
   "source": [
    "f1 = sklearn.metrics.f1_score(y_test, y_pred)\n",
    "print('F1 Score: ', f1)"
   ]
  },
  {
   "attachments": {},
   "cell_type": "markdown",
   "metadata": {},
   "source": [
    "### 3. Confusion Matrix"
   ]
  },
  {
   "cell_type": "code",
   "execution_count": 19,
   "metadata": {},
   "outputs": [
    {
     "data": {
      "image/png": "[encoded data removed]",
      "text/plain": [
       "<Figure size 640x480 with 2 Axes>"
      ]
     },
     "metadata": {},
     "output_type": "display_data"
    }
   ],
   "source": [
    "cm = sklearn.metrics.confusion_matrix(y_test, y_pred)\n",
    "disp = sklearn.metrics.ConfusionMatrixDisplay(confusion_matrix = cm, display_labels = ['No ASD', 'ASD'])\n",
    "disp.plot()\n",
    "plt.show()"
   ]
  },
  {
   "attachments": {},
   "cell_type": "markdown",
   "metadata": {},
   "source": [
    "### 4. Feature Ranking"
   ]
  },
  {
   "cell_type": "code",
   "execution_count": 20,
   "metadata": {},
   "outputs": [
    {
     "name": "stdout",
     "output_type": "stream",
     "text": [
      "used_app_before :  0.006509581749895306\n",
      "jundice :  0.007476387577364347\n",
      "gender :  0.007545623854104675\n",
      "austim :  0.00788343324008464\n",
      "A1_Score :  0.016757647962138928\n",
      "relation :  0.01893997094426275\n",
      "A8_Score :  0.019401924236904126\n",
      "A2_Score :  0.019718874844621644\n",
      "age :  0.02084552666972967\n",
      "A7_Score :  0.030372965124256794\n",
      "A9_Score :  0.034189538887787724\n",
      "A4_Score :  0.04487192778134082\n",
      "A3_Score :  0.04489002767386398\n",
      "A6_Score :  0.05703886325952181\n",
      "A10_Score :  0.05953486077698333\n",
      "A5_Score :  0.08794317869521037\n",
      "result :  0.5160796667219292\n"
     ]
    }
   ],
   "source": [
    "importance = model.feature_importances_\n",
    "index = np.argsort(model.feature_importances_).tolist()\n",
    "index.reverse\n",
    "std = np.std([tree.feature_importances_[index] for tree in model.estimators_], axis=0)\n",
    "for idx in index:\n",
    "    print(X_train.columns[idx], \": \", importance[idx])"
   ]
  },
  {
   "cell_type": "code",
   "execution_count": 21,
   "metadata": {},
   "outputs": [
    {
     "data": {
      "text/plain": [
       "Text(0, 0.5, 'Feature Name')"
      ]
     },
     "execution_count": 21,
     "metadata": {},
     "output_type": "execute_result"
    },
    {
     "data": {
      "image/png": "[encoded data removed]",
      "text/plain": [
       "<Figure size 640x480 with 1 Axes>"
      ]
     },
     "metadata": {},
     "output_type": "display_data"
    }
   ],
   "source": [
    "#plot bar chart of sorted features\n",
    "plt.barh(X_train.columns[index], model.feature_importances_[index], color=['green'])\n",
    "plt.gca().invert_yaxis()\n",
    "plt.xlabel(\"RF Feature Importance\")\n",
    "plt.ylabel(\"Feature Name\")\n"
   ]
  },
  {
   "attachments": {},
   "cell_type": "markdown",
   "metadata": {},
   "source": [
    "## Train Models with limited features"
   ]
  },
  {
   "attachments": {},
   "cell_type": "markdown",
   "metadata": {},
   "source": [
    "### 1. Use the 10 questions A1 to A10 to predict"
   ]
  },
  {
   "cell_type": "code",
   "execution_count": 22,
   "metadata": {},
   "outputs": [
    {
     "name": "stdout",
     "output_type": "stream",
     "text": [
      "Dropped features:  ['result', 'austim', 'used_app_before', 'age', 'gender', 'jundice', 'relation']\n",
      "Used features ['A1_Score', 'A2_Score', 'A3_Score', 'A4_Score', 'A5_Score', 'A6_Score', 'A7_Score', 'A8_Score', 'A9_Score', 'A10_Score']\n",
      "Accuracy: 0.9523809523809523\n"
     ]
    },
    {
     "data": {
      "image/png": "[encoded data removed]",
      "text/plain": [
       "<Figure size 640x480 with 1 Axes>"
      ]
     },
     "metadata": {},
     "output_type": "display_data"
    }
   ],
   "source": [
    "labels_to_drop = ['result', 'austim', 'used_app_before', 'age', 'gender', 'jundice', 'relation']\n",
    "n_estimator = 500\n",
    "X_drop = X.drop(labels=labels_to_drop, axis=1)\n",
    "X_train, X_test, y_train, y_test = train_test_split(X_drop, y, test_size=0.2)\n",
    "model = RandomForestClassifier(n_estimators=n_estimator)\n",
    "model.fit(X_train, y_train)\n",
    "y_pred = model.predict(X_test)\n",
    "print(\"Dropped features: \", labels_to_drop)\n",
    "print(\"Used features\", X_drop.columns.values.tolist())\n",
    "print(\"Accuracy:\",sklearn.metrics.accuracy_score(y_test, y_pred))\n",
    "importance = model.feature_importances_\n",
    "index = np.argsort(importance).tolist()\n",
    "fig, ax = plt.subplots()\n",
    "ax = plt.barh(X_train.columns[index], importance[index], color=\"green\")\n",
    "#plt.xticks(rotation=90)\n",
    "plt.gca().invert_yaxis()\n",
    "plt.show()"
   ]
  },
  {
   "cell_type": "code",
   "execution_count": 23,
   "metadata": {},
   "outputs": [
    {
     "data": {
      "image/png": "[encoded data removed]",
      "text/plain": [
       "<Figure size 640x480 with 2 Axes>"
      ]
     },
     "metadata": {},
     "output_type": "display_data"
    }
   ],
   "source": [
    "cm = sklearn.metrics.confusion_matrix(y_test, y_pred)\n",
    "disp = sklearn.metrics.ConfusionMatrixDisplay(confusion_matrix = cm, display_labels = ['No ASD', 'ASD'])\n",
    "disp.plot()\n",
    "plt.show()"
   ]
  },
  {
   "attachments": {},
   "cell_type": "markdown",
   "metadata": {},
   "source": [
    "### 2. Use only \"result\" to predict"
   ]
  },
  {
   "cell_type": "code",
   "execution_count": 24,
   "metadata": {},
   "outputs": [
    {
     "name": "stdout",
     "output_type": "stream",
     "text": [
      "Dropped features:  ['A1_Score', 'A2_Score', 'A3_Score', 'A4_Score', 'A5_Score', 'A6_Score', 'A7_Score', 'A8_Score', 'A9_Score', 'A10_Score', 'austim', 'used_app_before', 'age', 'gender', 'jundice', 'relation']\n",
      "Used features ['result']\n",
      "Accuracy: 1.0\n"
     ]
    }
   ],
   "source": [
    "labels_to_drop = ['A1_Score', 'A2_Score', 'A3_Score', 'A4_Score', 'A5_Score', 'A6_Score', 'A7_Score', 'A8_Score', 'A9_Score', 'A10_Score', \n",
    "'austim', 'used_app_before', 'age', 'gender', 'jundice', 'relation']\n",
    "n_estimator = 100\n",
    "X_drop = X.drop(labels=labels_to_drop, axis=1)\n",
    "X_train, X_test, y_train, y_test = train_test_split(X_drop, y, test_size=0.3)\n",
    "model = RandomForestClassifier(n_estimators=n_estimator)\n",
    "model.fit(X_train, y_train)\n",
    "y_pred = model.predict(X_test)\n",
    "print(\"Dropped features: \", labels_to_drop)\n",
    "print(\"Used features\", X_drop.columns.values.tolist())\n",
    "print(\"Accuracy:\",sklearn.metrics.accuracy_score(y_test, y_pred))"
   ]
  },
  {
   "cell_type": "code",
   "execution_count": 25,
   "metadata": {},
   "outputs": [
    {
     "data": {
      "image/png": "[encoded data removed]",
      "text/plain": [
       "<Figure size 640x480 with 2 Axes>"
      ]
     },
     "metadata": {},
     "output_type": "display_data"
    }
   ],
   "source": [
    "cm = sklearn.metrics.confusion_matrix(y_test, y_pred)\n",
    "disp = sklearn.metrics.ConfusionMatrixDisplay(confusion_matrix = cm, display_labels = ['No ASD', 'ASD'])\n",
    "disp.plot()\n",
    "plt.show()"
   ]
  },
  {
   "attachments": {},
   "cell_type": "markdown",
   "metadata": {},
   "source": [
    "### 3. Use features unrelated to AQ10"
   ]
  },
  {
   "cell_type": "code",
   "execution_count": 32,
   "metadata": {},
   "outputs": [
    {
     "name": "stdout",
     "output_type": "stream",
     "text": [
      "Dropped features:  ['A1_Score', 'A2_Score', 'A3_Score', 'A4_Score', 'A5_Score', 'A6_Score', 'A7_Score', 'A8_Score', 'A9_Score', 'A10_Score', 'result']\n",
      "Used features ['age', 'gender', 'jundice', 'austim', 'used_app_before', 'relation']\n",
      "Accuracy: 0.5714285714285714\n"
     ]
    },
    {
     "data": {
      "image/png": "[encoded data removed]",
      "text/plain": [
       "<Figure size 640x480 with 1 Axes>"
      ]
     },
     "metadata": {},
     "output_type": "display_data"
    }
   ],
   "source": [
    "labels_to_drop = ['A1_Score', 'A2_Score', 'A3_Score', 'A4_Score', 'A5_Score', 'A6_Score', 'A7_Score', 'A8_Score', 'A9_Score', 'A10_Score', 'result']\n",
    "n_estimator = 500\n",
    "X_drop = X.drop(labels=labels_to_drop, axis=1)\n",
    "X_train, X_test, y_train, y_test = train_test_split(X_drop, y, test_size=0.2)\n",
    "model = RandomForestClassifier(n_estimators=n_estimator)\n",
    "model.fit(X_train, y_train)\n",
    "y_pred = model.predict(X_test)\n",
    "print(\"Dropped features: \", labels_to_drop)\n",
    "print(\"Used features\", X_drop.columns.values.tolist())\n",
    "print(\"Accuracy:\",sklearn.metrics.accuracy_score(y_test, y_pred))\n",
    "importance = model.feature_importances_\n",
    "index = np.argsort(importance).tolist()\n",
    "fig, ax = plt.subplots()\n",
    "ax = plt.barh(X_train.columns[index], importance[index], color=\"green\")\n",
    "#plt.xticks(rotation=90)\n",
    "plt.gca().invert_yaxis()\n",
    "plt.show()"
   ]
  },
  {
   "cell_type": "code",
   "execution_count": 33,
   "metadata": {},
   "outputs": [
    {
     "data": {
      "image/png": "[encoded data removed]",
      "text/plain": [
       "<Figure size 640x480 with 2 Axes>"
      ]
     },
     "metadata": {},
     "output_type": "display_data"
    }
   ],
   "source": [
    "cm = sklearn.metrics.confusion_matrix(y_test, y_pred)\n",
    "disp = sklearn.metrics.ConfusionMatrixDisplay(confusion_matrix = cm, display_labels = ['No ASD', 'ASD'])\n",
    "disp.plot()\n",
    "plt.show()"
   ]
  },
  {
   "cell_type": "code",
   "execution_count": 35,
   "metadata": {},
   "outputs": [
    {
     "name": "stdout",
     "output_type": "stream",
     "text": [
      "Null hypothsis: The model trained on features unrelated to AQ10 is only guessing the result.\n",
      "Altenative hypothsis: The modle is not only guessing the result\n",
      "If the model is only guessing, for each result, it has 50\\% chance to get the correct answer.\n",
      "The nuber of correct answer follows a binomial distribution B(21,0.5)\n",
      "The model achieved an accuracy of 57.1%.\n",
      "P-Value of the result is 0.6636238098144531.\n",
      "We can not reject the null hypothesis that the model is only guessing.\n"
     ]
    }
   ],
   "source": [
    "from scipy import stats\n",
    "k = np.count_nonzero(y_test==y_pred)\n",
    "n = len(y_pred)\n",
    "print(\"Null hypothsis: The model trained on features unrelated to AQ10 is only guessing the result.\")\n",
    "print(\"Altenative hypothsis: The modle is not only guessing the result\")\n",
    "print(\"If the model is only guessing, for each result, it has 50\\% chance to get the correct answer.\")\n",
    "print(\"The nuber of correct answer follows a binomial distribution B(21,0.5)\")\n",
    "p = stats.binomtest(k,n,1/2).pvalue\n",
    "print(\"The model achieved an accuracy of {:.1f}%.\".format(sklearn.metrics.accuracy_score(y_test, y_pred)*100))\n",
    "print(\"P-Value of the result is {}.\".format(p))\n",
    "print(\"We can not reject the null hypothesis that the model is only guessing.\")"
   ]
  }
 ],
 "metadata": {
  "kernelspec": {
   "display_name": "DataLiteracy",
   "language": "python",
   "name": "python3"
  },
  "language_info": {
   "codemirror_mode": {
    "name": "ipython",
    "version": 3
   },
   "file_extension": ".py",
   "mimetype": "text/x-python",
   "name": "python",
   "nbconvert_exporter": "python",
   "pygments_lexer": "ipython3",
   "version": "3.10.6"
  },
  "orig_nbformat": 4,
  "vscode": {
   "interpreter": {
    "hash": "3e4fe21159920ef1afdcef415185e445783315a71f8876a74f7d58c00a6c547c"
   }
  }
 },
 "nbformat": 4,
 "nbformat_minor": 2
}
