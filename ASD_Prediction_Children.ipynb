{
 "cells": [
  {
   "cell_type": "code",
   "execution_count": null,
   "id": "151692c3",
   "metadata": {},
   "outputs": [],
   "source": [
    "import pandas as pd\n",
    "import numpy as np\n",
    "import matplotlib.pyplot as plt\n",
    "from scipy.io import arff\n",
    "from io import BytesIO\n",
    "import math\n",
    "import sklearn\n",
    "from sklearn.ensemble import RandomForestClassifier\n",
    "from sklearn.model_selection import train_test_split\n",
    "from sklearn.metrics import accuracy_score, f1_score, confusion_matrix, ConfusionMatrixDisplay"
   ]
  },
  {
   "cell_type": "markdown",
   "id": "59789cb4",
   "metadata": {},
   "source": [
    "# Process Datasets - Children"
   ]
  },
  {
   "cell_type": "markdown",
   "id": "e00406a7",
   "metadata": {},
   "source": [
    "## 1. Create Data Frame"
   ]
  },
  {
   "cell_type": "code",
   "execution_count": null,
   "id": "64a8604b",
   "metadata": {
    "scrolled": true
   },
   "outputs": [],
   "source": [
    "#Read file\n",
    "data = arff.loadarff('Autism-Child-Data.arff')\n",
    "df_child = pd.DataFrame(data[0])\n",
    "df_child"
   ]
  },
  {
   "cell_type": "code",
   "execution_count": null,
   "id": "3b01bfed",
   "metadata": {
    "scrolled": true
   },
   "outputs": [],
   "source": [
    "#check data type of each feature in the dataset\n",
    "df_child.info()"
   ]
  },
  {
   "cell_type": "markdown",
   "id": "fe663223",
   "metadata": {},
   "source": [
    "## 2. Decode Bytes Object"
   ]
  },
  {
   "cell_type": "code",
   "execution_count": null,
   "id": "82c74770",
   "metadata": {},
   "outputs": [],
   "source": [
    "for key in df_child.columns.tolist():\n",
    "    if(type(df_child[key][0]) == bytes):\n",
    "        df_child[key] = df_child[key].str.decode('utf-8')\n",
    "        \n",
    "df_child.head()"
   ]
  },
  {
   "cell_type": "markdown",
   "id": "fbcf5886",
   "metadata": {},
   "source": [
    "## 3. Visualization"
   ]
  },
  {
   "cell_type": "code",
   "execution_count": null,
   "id": "48112ca4",
   "metadata": {},
   "outputs": [],
   "source": [
    "CrosstabResult_age = pd.crosstab(index = df_child['age'],columns = df_child['Class/ASD'], rownames=['Age'])\n",
    "CrosstabResult_gender = pd.crosstab(index = df_child['gender'],columns = df_child['Class/ASD'], rownames=['Gender'])\n",
    "\n",
    "fig, ax =plt.subplots(1, 2, figsize = (12,5))\n",
    "\n",
    "#display the number of Non-ASD/ASD children in different age groups\n",
    "CrosstabResult_age.plot.bar(ax = ax[0])\n",
    "plt.sca(ax[0])\n",
    "ax[0].set_title(\"Non-ASD/ASD Children in Different Age Groups\")\n",
    "ax[0].set_xlabel('Age')\n",
    "ax[0].set_ylabel('Counts')\n",
    "plt.xticks(ticks=[0,1,2,3,4,5,6,7], labels=[4,5,6,7,8,9,10,11], rotation=0)\n",
    "\n",
    "for bar in ax[0].patches:\n",
    "    y_value = bar.get_height()\n",
    "    x_value = bar.get_x() + bar.get_width() / 2\n",
    "    space = 1\n",
    "    label = format(y_value)\n",
    "    ax[0].annotate(label, (x_value, y_value), xytext=(0, space), textcoords=\"offset points\", ha='center', va='bottom')\n",
    "    \n",
    "#display the number of Non-ASD/ASD children in different gender groups  \n",
    "CrosstabResult_gender.plot.bar(ax = ax[1])\n",
    "plt.sca(ax[1])\n",
    "ax[1].set_title(\"Non-ASD/ASD Children in Different Gender Groups\")\n",
    "ax[1].set_xlabel('Gender')\n",
    "plt.xticks(ticks=[0,1], labels=['Female','Male'], rotation = 0)\n",
    "\n",
    "for bar in ax[1].patches:\n",
    "    y_value = bar.get_height()\n",
    "    x_value = bar.get_x() + bar.get_width() / 2\n",
    "    space = 1\n",
    "    label = format(y_value)\n",
    "    ax[1].annotate(label, (x_value, y_value), xytext=(0, space), textcoords=\"offset points\", ha='center', va='bottom')\n",
    "\n",
    "\n",
    "\n"
   ]
  },
  {
   "cell_type": "markdown",
   "id": "887c5b66",
   "metadata": {},
   "source": [
    "## 4. Drop Unrelated Features"
   ]
  },
  {
   "cell_type": "code",
   "execution_count": null,
   "id": "30f4ab47",
   "metadata": {},
   "outputs": [],
   "source": [
    "#drop 3 unrelated feature columns\n",
    "df_child = df_child.drop(['ethnicity','contry_of_res', 'age_desc'], axis=1)\n",
    "\n",
    "#check if features are dropped correctly\n",
    "df_child"
   ]
  },
  {
   "cell_type": "markdown",
   "id": "c19ff5b6",
   "metadata": {},
   "source": [
    "## 5. One-Hot-Encoding\n",
    "#### Convert not numeric data to numeric for analysis purpose"
   ]
  },
  {
   "cell_type": "code",
   "execution_count": null,
   "id": "471ddfe9",
   "metadata": {},
   "outputs": [],
   "source": [
    "#check the different values each feature column has\n",
    "for key in df_child.columns.tolist():\n",
    "    unique_value = df_child[key].unique()\n",
    "    print(key + \" has value: \", unique_value )"
   ]
  },
  {
   "cell_type": "code",
   "execution_count": null,
   "id": "3418a9b7",
   "metadata": {},
   "outputs": [],
   "source": [
    "#do ont-hot encoding\n",
    "df_child['gender'] = df_child['gender'].map({'m': 0, 'f': 1})\n",
    "df_child['jundice'] = df_child['jundice'].map({'no': 0, 'yes': 1})\n",
    "df_child['austim'] = df_child['austim'].map({'no': 0, 'yes': 1})\n",
    "df_child['used_app_before'] = df_child['used_app_before'].map({'no': 0, 'yes': 1})\n",
    "df_child['relation'] = df_child['relation'].map({'Parent': 0, 'Self': 1, 'self': 1, 'Relative': 2, 'Health care professional': 3})\n",
    "df_child['Class/ASD'] = df_child['Class/ASD'].map({'NO': 0, 'YES': 1})\n",
    "df_child.head()"
   ]
  },
  {
   "cell_type": "markdown",
   "id": "6f37d0a9",
   "metadata": {},
   "source": [
    "## 6. Handle Missing Value"
   ]
  },
  {
   "cell_type": "code",
   "execution_count": null,
   "id": "e235f4a9",
   "metadata": {
    "scrolled": true
   },
   "outputs": [],
   "source": [
    "#print out samples that have missing values\n",
    "df_child[df_child.isna().sum(axis=1) > 0]"
   ]
  },
  {
   "cell_type": "code",
   "execution_count": null,
   "id": "0db5dfe8",
   "metadata": {},
   "outputs": [],
   "source": [
    "#fill missing value of 'relation' with 'Parents', since most questions are answered by children's Parents\n",
    "df_child['relation'].fillna(value = 0, inplace=True)\n",
    "\n",
    "#fill missing value of 'age' with its mean\n",
    "df_child['age'].fillna(round(df_child['age'].mean()), inplace=True)"
   ]
  },
  {
   "cell_type": "code",
   "execution_count": null,
   "id": "120a2050",
   "metadata": {},
   "outputs": [],
   "source": [
    "#check if all missing values are handeled\n",
    "df_child[df_child.isna().sum(axis=1) > 0]"
   ]
  },
  {
   "cell_type": "code",
   "execution_count": null,
   "id": "694b84f5",
   "metadata": {
    "scrolled": true
   },
   "outputs": [],
   "source": [
    "#convert all feature type to int\n",
    "for key in df_child.columns.tolist():\n",
    "    if(type(df_child[key][0]) != int):\n",
    "        df_child[key] = df_child[key].astype(int)\n",
    "\n",
    "#check the datatype after converting\n",
    "df_child.info()"
   ]
  },
  {
   "cell_type": "markdown",
   "id": "2fe8cdde",
   "metadata": {},
   "source": [
    "## 7. Check the Size and Balance of Processed Dataset "
   ]
  },
  {
   "cell_type": "code",
   "execution_count": null,
   "id": "90413a3e",
   "metadata": {
    "scrolled": true
   },
   "outputs": [],
   "source": [
    "#check if the size of processed dataset matches the size of original dataset(after dropping 3 feature columns)\n",
    "print(\"Number of Non_ASD samples: \", len(df_child[df_child['Class/ASD'] == 0]))\n",
    "print(\"Number of ASD samples: \", len(df_child[df_child['Class/ASD'] == 1]))"
   ]
  },
  {
   "cell_type": "markdown",
   "id": "b8208236",
   "metadata": {},
   "source": [
    "# Build Random Forest Model"
   ]
  },
  {
   "cell_type": "markdown",
   "id": "697467ef",
   "metadata": {},
   "source": [
    "## 1. Split df_child into train and test sets"
   ]
  },
  {
   "cell_type": "code",
   "execution_count": null,
   "id": "3cbface6",
   "metadata": {},
   "outputs": [],
   "source": [
    "X = df_child.iloc[:, :-1] #feature columns\n",
    "y = df_child.iloc[:,-1] #lable column"
   ]
  },
  {
   "cell_type": "code",
   "execution_count": null,
   "id": "e41ac235",
   "metadata": {},
   "outputs": [],
   "source": [
    "#split original dataset into test and taing sets\n",
    "X_train, X_test, y_train, y_test = train_test_split(X, y, test_size = 0.2)"
   ]
  },
  {
   "cell_type": "markdown",
   "id": "2a449d69",
   "metadata": {},
   "source": [
    "## 2. Train the model"
   ]
  },
  {
   "cell_type": "code",
   "execution_count": null,
   "id": "9c746063",
   "metadata": {},
   "outputs": [],
   "source": [
    "#buit RF model, choose 500 as the number of estimator\n",
    "model = RandomForestClassifier(n_estimators = 500)"
   ]
  },
  {
   "cell_type": "code",
   "execution_count": null,
   "id": "245810a1",
   "metadata": {},
   "outputs": [],
   "source": [
    "#train RF model with training set\n",
    "model.fit(X_train, y_train)"
   ]
  },
  {
   "cell_type": "markdown",
   "id": "97ed35f2",
   "metadata": {},
   "source": [
    "# Evaluate RF Model"
   ]
  },
  {
   "cell_type": "markdown",
   "id": "feeb067b",
   "metadata": {},
   "source": [
    "## 1. Accuracy"
   ]
  },
  {
   "cell_type": "code",
   "execution_count": null,
   "id": "cd37f460",
   "metadata": {},
   "outputs": [],
   "source": [
    "#Get prediction result based on test set\n",
    "y_pred = model.predict(X_test)"
   ]
  },
  {
   "cell_type": "code",
   "execution_count": null,
   "id": "e41922c2",
   "metadata": {},
   "outputs": [],
   "source": [
    "#find accuracy of model\n",
    "accuracy = accuracy_score(y_test, y_pred)\n",
    "print(\"Accuracy:\", accuracy)"
   ]
  },
  {
   "cell_type": "markdown",
   "id": "221ad945",
   "metadata": {},
   "source": [
    "### Since the accuracy is 100%, we use shuffled version of  test label to calculate the accuracy again to make sure the model is trained correctly"
   ]
  },
  {
   "cell_type": "code",
   "execution_count": null,
   "id": "e2b660b6",
   "metadata": {},
   "outputs": [],
   "source": [
    "import random\n",
    "\n",
    "#shuffle the test label\n",
    "y_shuffle = y_test.copy().tolist()\n",
    "random.shuffle(y_shuffle)\n",
    "\n",
    "print(\"Accuracy of shuffled:\", accuracy_score(y_shuffle, y_pred))"
   ]
  },
  {
   "cell_type": "markdown",
   "id": "19bd210e",
   "metadata": {},
   "source": [
    "## 2. F1 Score"
   ]
  },
  {
   "cell_type": "code",
   "execution_count": null,
   "id": "32d8075b",
   "metadata": {},
   "outputs": [],
   "source": [
    "#find f1 score of model\n",
    "f1 = f1_score(y_test, y_pred)\n",
    "print('F1 Score: ', f1)"
   ]
  },
  {
   "cell_type": "markdown",
   "id": "f044f86f",
   "metadata": {},
   "source": [
    "## 3. Confusion Matrix"
   ]
  },
  {
   "cell_type": "code",
   "execution_count": null,
   "id": "a914a93f",
   "metadata": {},
   "outputs": [],
   "source": [
    "#plot confusion matrix of model\n",
    "cm = confusion_matrix(y_test, y_pred)\n",
    "disp = ConfusionMatrixDisplay(confusion_matrix = cm, display_labels = ['No ASD', 'ASD'])\n",
    "disp.plot()\n",
    "plt.show()"
   ]
  },
  {
   "cell_type": "markdown",
   "id": "a9b27222",
   "metadata": {},
   "source": [
    "## 4. Feature Ranking"
   ]
  },
  {
   "cell_type": "code",
   "execution_count": null,
   "id": "84f89350",
   "metadata": {
    "scrolled": true
   },
   "outputs": [],
   "source": [
    "#get the index of descending sorted features\n",
    "index = np.argsort(model.feature_importances_).tolist()\n",
    "#reverse to ascending order\n",
    "index.reverse\n",
    "#display feature score\n",
    "feature = [(X_train.columns[idx], model.feature_importances_[idx]) for idx in index]\n",
    "feature "
   ]
  },
  {
   "cell_type": "code",
   "execution_count": null,
   "id": "b35e97f8",
   "metadata": {
    "scrolled": false
   },
   "outputs": [],
   "source": [
    "#plot bar chart of sorted features\n",
    "plt.barh(X_train.columns[index], model.feature_importances_[index], color=['green'])\n",
    "plt.gca().invert_yaxis()\n",
    "plt.xlabel(\"RF Feature Importance\")\n",
    "plt.ylabel(\"Feature Name\")"
   ]
  },
  {
   "cell_type": "markdown",
   "id": "4961b2b2",
   "metadata": {},
   "source": [
    "# Train Models with Limited Features"
   ]
  },
  {
   "cell_type": "markdown",
   "id": "7f16c7d5",
   "metadata": {},
   "source": [
    "## 1. Use only \"result\" to predict"
   ]
  },
  {
   "cell_type": "code",
   "execution_count": null,
   "id": "dab4c0c3",
   "metadata": {},
   "outputs": [],
   "source": [
    "#only keep the feature of result\n",
    "X_train_result = X_train['result'].values.reshape(-1,1)\n",
    "X_test_result = X_test['result'].values.reshape(-1,1)\n",
    "\n",
    "model_result = RandomForestClassifier(n_estimators = 500)\n",
    "model_result.fit(X_train_result,y_train)\n",
    "\n",
    "y_pred_result = model_result.predict(X_test_result)\n",
    "\n",
    "print(\"Used features: ['result']\")\n",
    "print(\"Accuracy:\", accuracy_score(y_test, y_pred_result))"
   ]
  },
  {
   "cell_type": "code",
   "execution_count": null,
   "id": "cf0d9858",
   "metadata": {},
   "outputs": [],
   "source": [
    "#plot confusion matrix\n",
    "cm_result = confusion_matrix(y_test, y_pred_result)\n",
    "disp = ConfusionMatrixDisplay(confusion_matrix = cm_result, display_labels = ['No ASD', 'ASD'])\n",
    "disp.plot()\n",
    "plt.show()"
   ]
  },
  {
   "cell_type": "markdown",
   "id": "548e820f",
   "metadata": {},
   "source": [
    "## 2. Use the 10 questions A1 to A10 to predict"
   ]
  },
  {
   "cell_type": "code",
   "execution_count": null,
   "id": "beb2c39e",
   "metadata": {},
   "outputs": [],
   "source": [
    "#only keep the features of A1 to A10 questions\n",
    "X_train_10Q = X_train.drop(['used_app_before','age','gender','jundice','austim','result','relation'], axis=1)\n",
    "X_test_10Q = X_test.drop(['used_app_before','age','gender','jundice','austim','result','relation'], axis=1)\n",
    "\n",
    "model_10Q = RandomForestClassifier(n_estimators = 500)\n",
    "model_10Q.fit(X_train_10Q,y_train)\n",
    "\n",
    "y_pred_10Q = model_10Q.predict(X_test_10Q)\n",
    "\n",
    "print(\"Used features:\", X_train_10Q.columns.tolist())\n",
    "print(\"Accuracy:\", accuracy_score(y_test, y_pred_10Q))"
   ]
  },
  {
   "cell_type": "code",
   "execution_count": null,
   "id": "6b27a84a",
   "metadata": {},
   "outputs": [],
   "source": [
    "#do freature ranking\n",
    "index_10Q = np.argsort(model_10Q.feature_importances_).tolist()\n",
    "\n",
    "plt.barh(X_train_10Q.columns[index_10Q], model_10Q.feature_importances_[index_10Q], color=['green'])\n",
    "plt.gca().invert_yaxis()\n",
    "plt.xlabel(\"RF Feature Importance\")\n",
    "plt.ylabel(\"Feature Name\")"
   ]
  },
  {
   "cell_type": "code",
   "execution_count": null,
   "id": "ddddf6ed",
   "metadata": {},
   "outputs": [],
   "source": [
    "#plot confusion matrix\n",
    "cm_10Q = confusion_matrix(y_test, y_pred_10Q)\n",
    "disp = ConfusionMatrixDisplay(confusion_matrix = cm_10Q, display_labels = ['No ASD', 'ASD'])\n",
    "disp.plot()\n",
    "plt.show()"
   ]
  },
  {
   "cell_type": "markdown",
   "id": "303db8d5",
   "metadata": {},
   "source": [
    "## 3. Use features unrelated to AQ 10"
   ]
  },
  {
   "cell_type": "code",
   "execution_count": null,
   "id": "cf58be83",
   "metadata": {},
   "outputs": [],
   "source": [
    "#only keep the 6 features unrelated to the AQ 10 questionaire\n",
    "X_train_unrelated = X_train[['age','gender','jundice','relation','austim','used_app_before']]\n",
    "X_test_unrelated = X_test[['age','gender','jundice','relation','austim','used_app_before']]\n",
    "\n",
    "model_unrelated = RandomForestClassifier(n_estimators = 500)\n",
    "model_unrelated.fit(X_train_unrelated,y_train)\n",
    "\n",
    "y_pred_unrelated = model_unrelated.predict(X_test_unrelated)\n",
    "\n",
    "print(\"Used features:\", X_train_unrelated.columns.tolist())\n",
    "print(\"Accuracy:\", accuracy_score(y_test, y_pred_unrelated))"
   ]
  },
  {
   "cell_type": "code",
   "execution_count": null,
   "id": "659f6745",
   "metadata": {},
   "outputs": [],
   "source": [
    "#do freature ranking\n",
    "index_unrelated = np.argsort(model_unrelated.feature_importances_).tolist()\n",
    "\n",
    "plt.barh(X_train_unrelated.columns[index_unrelated], model_unrelated.feature_importances_[index_unrelated], color=['green'])\n",
    "plt.gca().invert_yaxis()\n",
    "plt.xlabel(\"RF Feature Importance\")\n",
    "plt.ylabel(\"Feature Name\")"
   ]
  },
  {
   "cell_type": "code",
   "execution_count": null,
   "id": "ad33a36c",
   "metadata": {},
   "outputs": [],
   "source": [
    "#plot confusion matrix\n",
    "cm_unrelated = confusion_matrix(y_test, y_pred_unrelated)\n",
    "disp = ConfusionMatrixDisplay(confusion_matrix = cm_unrelated, display_labels = ['No ASD', 'ASD'])\n",
    "disp.plot()\n",
    "plt.show()"
   ]
  },
  {
   "cell_type": "code",
   "execution_count": null,
   "id": "90279cd4",
   "metadata": {},
   "outputs": [],
   "source": [
    "#explain the accuracy of this model\n",
    "from scipy import stats\n",
    "k = np.count_nonzero(y_test == y_pred_unrelated)\n",
    "n = len(y_pred_unrelated)\n",
    "print(\"Null hypothsis: The model trained on features unrelated to AQ10 is only guessing the result.\")\n",
    "print(\"Altenative hypothsis: The modle is not only guessing the result\")\n",
    "print(\"If the model is only guessing, for each result, it has 50% chance to get the correct answer.\")\n",
    "print(\"The number of correct answer follows a binomial distribution B(59,0.5)\")\n",
    "p = stats.binomtest(k,n,1/2).pvalue\n",
    "print(\"The model achieved an accuracy of {:.1f}%.\".format(sklearn.metrics.accuracy_score(y_test, y_pred_unrelated)*100))\n",
    "print(\"P-Value of the result is {}.\".format(p))\n",
    "print(\"We can not reject the null hypothesis that the model is only guessing.\")"
   ]
  }
 ],
 "metadata": {
  "kernelspec": {
   "display_name": "Python 3 (ipykernel)",
   "language": "python",
   "name": "python3"
  },
  "language_info": {
   "codemirror_mode": {
    "name": "ipython",
    "version": 3
   },
   "file_extension": ".py",
   "mimetype": "text/x-python",
   "name": "python",
   "nbconvert_exporter": "python",
   "pygments_lexer": "ipython3",
   "version": "3.10.6"
  }
 },
 "nbformat": 4,
 "nbformat_minor": 5
}
